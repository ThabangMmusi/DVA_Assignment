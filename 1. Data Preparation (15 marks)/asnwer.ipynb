{
 "cells": [
  {
   "cell_type": "markdown",
   "id": "5ae87c02-1c22-4b76-afbd-a7600a9453b3",
   "metadata": {},
   "source": [
    "## Question 1"
   ]
  },
  {
   "cell_type": "code",
   "execution_count": 1,
   "id": "eca0de17-116b-4e42-ad91-87cb3981453b",
   "metadata": {},
   "outputs": [],
   "source": [
    "import pandas as pd"
   ]
  },
  {
   "cell_type": "markdown",
   "id": "6a316163",
   "metadata": {},
   "source": [
    "Reading into the files"
   ]
  },
  {
   "cell_type": "code",
   "execution_count": 2,
   "id": "3a8c2822-d862-490d-ae02-c55e69944cf3",
   "metadata": {},
   "outputs": [],
   "source": [
    "edu_df = pd.read_csv(\"education.csv\")\n",
    "labour_df = pd.read_csv(\"labour.csv\")"
   ]
  },
  {
   "cell_type": "markdown",
   "id": "87d996f2-2a92-4c71-a174-1e030ec1c837",
   "metadata": {},
   "source": [
    "getting information about the  education and labour dataframe such number of columns and number of rows"
   ]
  },
  {
   "cell_type": "code",
   "execution_count": 3,
   "id": "e2211c13-39e1-43cb-8574-53cf14d1f548",
   "metadata": {},
   "outputs": [
    {
     "ename": "NameError",
     "evalue": "name 'labour_df' is not defined",
     "output_type": "error",
     "traceback": [
      "\u001b[31m---------------------------------------------------------------------------\u001b[39m",
      "\u001b[31mNameError\u001b[39m                                 Traceback (most recent call last)",
      "\u001b[36mCell\u001b[39m\u001b[36m \u001b[39m\u001b[32mIn[3]\u001b[39m\u001b[32m, line 4\u001b[39m\n\u001b[32m      1\u001b[39m \u001b[33;03m\"\"\"geting infomation about labour data frame the number of rows and coloumns including \u001b[39;00m\n\u001b[32m      2\u001b[39m \u001b[33;03mif there are null values\"\"\"\u001b[39;00m\n\u001b[32m----> \u001b[39m\u001b[32m4\u001b[39m \u001b[43mlabour_df\u001b[49m.info()\n\u001b[32m      5\u001b[39m labour_df.head(\u001b[32m3\u001b[39m)\n",
      "\u001b[31mNameError\u001b[39m: name 'labour_df' is not defined"
     ]
    }
   ],
   "source": [
    "\"\"\"geting infomation about labour data frame the number of rows and coloumns including \n",
    "if there are null values\"\"\"\n",
    "\n",
    "labour_df.info()\n",
    "labour_df.head(3)"
   ]
  },
  {
   "cell_type": "code",
   "execution_count": 4,
   "id": "c50487bc-af4c-4a74-911a-6ac60c935613",
   "metadata": {},
   "outputs": [
    {
     "ename": "NameError",
     "evalue": "name 'edu_df' is not defined",
     "output_type": "error",
     "traceback": [
      "\u001b[31m---------------------------------------------------------------------------\u001b[39m",
      "\u001b[31mNameError\u001b[39m                                 Traceback (most recent call last)",
      "\u001b[36mCell\u001b[39m\u001b[36m \u001b[39m\u001b[32mIn[4]\u001b[39m\u001b[32m, line 4\u001b[39m\n\u001b[32m      1\u001b[39m \u001b[33;03m\"\"\"getting information and structure about education data frame the number of rows and coloumns \"\"\"\u001b[39;00m\n\u001b[32m----> \u001b[39m\u001b[32m4\u001b[39m \u001b[43medu_df\u001b[49m.info()\n\u001b[32m      5\u001b[39m edu_df.head(\u001b[32m3\u001b[39m)\n",
      "\u001b[31mNameError\u001b[39m: name 'edu_df' is not defined"
     ]
    }
   ],
   "source": [
    "\"\"\"getting information and structure about education data frame the number of rows and coloumns \"\"\"\n",
    "\n",
    "\n",
    "edu_df.info()\n",
    "edu_df.head(3)"
   ]
  },
  {
   "cell_type": "markdown",
   "id": "e62ca50b",
   "metadata": {},
   "source": [
    "since we want to be working with only data that is concerning South Africa only we have to check Ref area label column in both datasets whether they Contain South Africa if it does then we continue with our data analysis."
   ]
  },
  {
   "cell_type": "code",
   "execution_count": 5,
   "id": "479355eb",
   "metadata": {},
   "outputs": [
    {
     "ename": "NameError",
     "evalue": "name 'edu_df' is not defined",
     "output_type": "error",
     "traceback": [
      "\u001b[31m---------------------------------------------------------------------------\u001b[39m",
      "\u001b[31mNameError\u001b[39m                                 Traceback (most recent call last)",
      "\u001b[36mCell\u001b[39m\u001b[36m \u001b[39m\u001b[32mIn[5]\u001b[39m\u001b[32m, line 1\u001b[39m\n\u001b[32m----> \u001b[39m\u001b[32m1\u001b[39m \u001b[38;5;28mprint\u001b[39m(\u001b[43medu_df\u001b[49m[\u001b[33m\"\u001b[39m\u001b[33mREF_AREA_LABEL\u001b[39m\u001b[33m\"\u001b[39m].unique())\n",
      "\u001b[31mNameError\u001b[39m: name 'edu_df' is not defined"
     ]
    }
   ],
   "source": [
    "print(edu_df[\"REF_AREA_LABEL\"].unique())"
   ]
  },
  {
   "cell_type": "code",
   "execution_count": 6,
   "id": "83978f8d",
   "metadata": {},
   "outputs": [
    {
     "ename": "NameError",
     "evalue": "name 'labour_df' is not defined",
     "output_type": "error",
     "traceback": [
      "\u001b[31m---------------------------------------------------------------------------\u001b[39m",
      "\u001b[31mNameError\u001b[39m                                 Traceback (most recent call last)",
      "\u001b[36mCell\u001b[39m\u001b[36m \u001b[39m\u001b[32mIn[6]\u001b[39m\u001b[32m, line 1\u001b[39m\n\u001b[32m----> \u001b[39m\u001b[32m1\u001b[39m \u001b[38;5;28mprint\u001b[39m(\u001b[43mlabour_df\u001b[49m[\u001b[33m\"\u001b[39m\u001b[33mREF_AREA_LABEL\u001b[39m\u001b[33m\"\u001b[39m].unique())\n",
      "\u001b[31mNameError\u001b[39m: name 'labour_df' is not defined"
     ]
    }
   ],
   "source": [
    "print(labour_df[\"REF_AREA_LABEL\"].unique())"
   ]
  },
  {
   "cell_type": "code",
   "execution_count": 7,
   "id": "ebcf9d65-c3cb-4bd0-9bb6-3bd0a0fd3815",
   "metadata": {},
   "outputs": [
    {
     "ename": "NameError",
     "evalue": "name 'edu_df' is not defined",
     "output_type": "error",
     "traceback": [
      "\u001b[31m---------------------------------------------------------------------------\u001b[39m",
      "\u001b[31mNameError\u001b[39m                                 Traceback (most recent call last)",
      "\u001b[36mCell\u001b[39m\u001b[36m \u001b[39m\u001b[32mIn[7]\u001b[39m\u001b[32m, line 1\u001b[39m\n\u001b[32m----> \u001b[39m\u001b[32m1\u001b[39m edu_sa = \u001b[43medu_df\u001b[49m[edu_df[\u001b[33m\"\u001b[39m\u001b[33mREF_AREA_LABEL\u001b[39m\u001b[33m\"\u001b[39m] == \u001b[33m\"\u001b[39m\u001b[33mSouth Africa\u001b[39m\u001b[33m\"\u001b[39m]\n\u001b[32m      2\u001b[39m labour_sa = labour_df[labour_df[\u001b[33m\"\u001b[39m\u001b[33mREF_AREA_LABEL\u001b[39m\u001b[33m\"\u001b[39m] == \u001b[33m\"\u001b[39m\u001b[33mSouth Africa\u001b[39m\u001b[33m\"\u001b[39m]\n",
      "\u001b[31mNameError\u001b[39m: name 'edu_df' is not defined"
     ]
    }
   ],
   "source": [
    "edu_sa = edu_df[edu_df[\"REF_AREA_LABEL\"] == \"South Africa\"]\n",
    "labour_sa = labour_df[labour_df[\"REF_AREA_LABEL\"] == \"South Africa\"]"
   ]
  },
  {
   "cell_type": "code",
   "execution_count": 8,
   "id": "60960c4f",
   "metadata": {},
   "outputs": [
    {
     "ename": "NameError",
     "evalue": "name 'edu_sa' is not defined",
     "output_type": "error",
     "traceback": [
      "\u001b[31m---------------------------------------------------------------------------\u001b[39m",
      "\u001b[31mNameError\u001b[39m                                 Traceback (most recent call last)",
      "\u001b[36mCell\u001b[39m\u001b[36m \u001b[39m\u001b[32mIn[8]\u001b[39m\u001b[32m, line 3\u001b[39m\n\u001b[32m      1\u001b[39m \u001b[33;03m\"\"\"checking if there are any null values in both data sets\"\"\"\u001b[39;00m\n\u001b[32m----> \u001b[39m\u001b[32m3\u001b[39m \u001b[38;5;28mprint\u001b[39m(\u001b[43medu_sa\u001b[49m.isnull().sum())\n",
      "\u001b[31mNameError\u001b[39m: name 'edu_sa' is not defined"
     ]
    }
   ],
   "source": [
    "\"\"\"checking if there are any null values in both data sets\"\"\"\n",
    "\n",
    "print(edu_sa.isnull().sum())"
   ]
  },
  {
   "cell_type": "code",
   "execution_count": 9,
   "id": "08ef7a05",
   "metadata": {},
   "outputs": [
    {
     "ename": "NameError",
     "evalue": "name 'labour_sa' is not defined",
     "output_type": "error",
     "traceback": [
      "\u001b[31m---------------------------------------------------------------------------\u001b[39m",
      "\u001b[31mNameError\u001b[39m                                 Traceback (most recent call last)",
      "\u001b[36mCell\u001b[39m\u001b[36m \u001b[39m\u001b[32mIn[9]\u001b[39m\u001b[32m, line 1\u001b[39m\n\u001b[32m----> \u001b[39m\u001b[32m1\u001b[39m \u001b[43mlabour_sa\u001b[49m.isnull().sum()\n",
      "\u001b[31mNameError\u001b[39m: name 'labour_sa' is not defined"
     ]
    }
   ],
   "source": [
    "labour_sa.isnull().sum()"
   ]
  },
  {
   "cell_type": "markdown",
   "id": "76d39405-1de8-4393-8ab2-e1ee244ba9c5",
   "metadata": {},
   "source": [
    "Cleaning Data "
   ]
  },
  {
   "cell_type": "code",
   "execution_count": 10,
   "id": "9aacb123-25b6-4627-b58c-27a70d888f9a",
   "metadata": {},
   "outputs": [
    {
     "ename": "NameError",
     "evalue": "name 'labour_sa' is not defined",
     "output_type": "error",
     "traceback": [
      "\u001b[31m---------------------------------------------------------------------------\u001b[39m",
      "\u001b[31mNameError\u001b[39m                                 Traceback (most recent call last)",
      "\u001b[36mCell\u001b[39m\u001b[36m \u001b[39m\u001b[32mIn[10]\u001b[39m\u001b[32m, line 1\u001b[39m\n\u001b[32m----> \u001b[39m\u001b[32m1\u001b[39m labour_sa = \u001b[43mlabour_sa\u001b[49m.drop(columns=[\u001b[33m\"\u001b[39m\u001b[33mCOMMENT_OBS\u001b[39m\u001b[33m\"\u001b[39m])\n\u001b[32m      2\u001b[39m edu_sa = edu_sa.drop(columns=[\u001b[33m\"\u001b[39m\u001b[33mCOMMENT_OBS\u001b[39m\u001b[33m\"\u001b[39m])\n",
      "\u001b[31mNameError\u001b[39m: name 'labour_sa' is not defined"
     ]
    }
   ],
   "source": [
    "labour_sa = labour_sa.drop(columns=[\"COMMENT_OBS\"])\n",
    "edu_sa = edu_sa.drop(columns=[\"COMMENT_OBS\"])"
   ]
  },
  {
   "cell_type": "code",
   "execution_count": 13,
   "id": "f9cb634a-355a-4a1c-854d-211715e3edbe",
   "metadata": {},
   "outputs": [],
   "source": [
    "edu_clean = edu_sa[[\n",
    "    \"TIME_PERIOD\", \"REF_AREA_LABEL\", \"INDICATOR_LABEL\",\n",
    "    \"SEX_LABEL\", \"AGE_LABEL\", \"OBS_VALUE\"\n",
    "]]\n",
    "\n",
    "labour_clean = labour_sa[[\n",
    "    \"TIME_PERIOD\", \"REF_AREA_LABEL\", \"INDICATOR_LABEL\",\n",
    "    \"SEX_LABEL\", \"AGE_LABEL\", \"OBS_VALUE\"\n",
    "]]"
   ]
  },
  {
   "cell_type": "code",
   "execution_count": 14,
   "id": "64400f59-ed88-4723-b66d-8cc0ea89d68b",
   "metadata": {},
   "outputs": [
    {
     "data": {
      "text/html": [
       "<div>\n",
       "<style scoped>\n",
       "    .dataframe tbody tr th:only-of-type {\n",
       "        vertical-align: middle;\n",
       "    }\n",
       "\n",
       "    .dataframe tbody tr th {\n",
       "        vertical-align: top;\n",
       "    }\n",
       "\n",
       "    .dataframe thead th {\n",
       "        text-align: right;\n",
       "    }\n",
       "</style>\n",
       "<table border=\"1\" class=\"dataframe\">\n",
       "  <thead>\n",
       "    <tr style=\"text-align: right;\">\n",
       "      <th></th>\n",
       "      <th>TIME_PERIOD</th>\n",
       "      <th>OBS_VALUE</th>\n",
       "    </tr>\n",
       "  </thead>\n",
       "  <tbody>\n",
       "    <tr>\n",
       "      <th>count</th>\n",
       "      <td>35.000000</td>\n",
       "      <td>35.000000</td>\n",
       "    </tr>\n",
       "    <tr>\n",
       "      <th>mean</th>\n",
       "      <td>2007.000000</td>\n",
       "      <td>59.423029</td>\n",
       "    </tr>\n",
       "    <tr>\n",
       "      <th>std</th>\n",
       "      <td>10.246951</td>\n",
       "      <td>2.574678</td>\n",
       "    </tr>\n",
       "    <tr>\n",
       "      <th>min</th>\n",
       "      <td>1990.000000</td>\n",
       "      <td>54.171000</td>\n",
       "    </tr>\n",
       "    <tr>\n",
       "      <th>25%</th>\n",
       "      <td>1998.500000</td>\n",
       "      <td>57.829000</td>\n",
       "    </tr>\n",
       "    <tr>\n",
       "      <th>50%</th>\n",
       "      <td>2007.000000</td>\n",
       "      <td>59.802000</td>\n",
       "    </tr>\n",
       "    <tr>\n",
       "      <th>75%</th>\n",
       "      <td>2015.500000</td>\n",
       "      <td>61.985500</td>\n",
       "    </tr>\n",
       "    <tr>\n",
       "      <th>max</th>\n",
       "      <td>2024.000000</td>\n",
       "      <td>62.569000</td>\n",
       "    </tr>\n",
       "  </tbody>\n",
       "</table>\n",
       "</div>"
      ],
      "text/plain": [
       "       TIME_PERIOD  OBS_VALUE\n",
       "count    35.000000  35.000000\n",
       "mean   2007.000000  59.423029\n",
       "std      10.246951   2.574678\n",
       "min    1990.000000  54.171000\n",
       "25%    1998.500000  57.829000\n",
       "50%    2007.000000  59.802000\n",
       "75%    2015.500000  61.985500\n",
       "max    2024.000000  62.569000"
      ]
     },
     "execution_count": 14,
     "metadata": {},
     "output_type": "execute_result"
    }
   ],
   "source": [
    "labour_clean.describe()"
   ]
  },
  {
   "cell_type": "code",
   "execution_count": 15,
   "id": "919801f5-46a6-408a-adb6-42ad9f9e0a58",
   "metadata": {},
   "outputs": [
    {
     "data": {
      "text/html": [
       "<div>\n",
       "<style scoped>\n",
       "    .dataframe tbody tr th:only-of-type {\n",
       "        vertical-align: middle;\n",
       "    }\n",
       "\n",
       "    .dataframe tbody tr th {\n",
       "        vertical-align: top;\n",
       "    }\n",
       "\n",
       "    .dataframe thead th {\n",
       "        text-align: right;\n",
       "    }\n",
       "</style>\n",
       "<table border=\"1\" class=\"dataframe\">\n",
       "  <thead>\n",
       "    <tr style=\"text-align: right;\">\n",
       "      <th></th>\n",
       "      <th>TIME_PERIOD</th>\n",
       "      <th>OBS_VALUE</th>\n",
       "    </tr>\n",
       "  </thead>\n",
       "  <tbody>\n",
       "    <tr>\n",
       "      <th>count</th>\n",
       "      <td>13.000000</td>\n",
       "      <td>13.000000</td>\n",
       "    </tr>\n",
       "    <tr>\n",
       "      <th>mean</th>\n",
       "      <td>2016.846154</td>\n",
       "      <td>8.306698</td>\n",
       "    </tr>\n",
       "    <tr>\n",
       "      <th>std</th>\n",
       "      <td>4.140172</td>\n",
       "      <td>2.775010</td>\n",
       "    </tr>\n",
       "    <tr>\n",
       "      <th>min</th>\n",
       "      <td>2010.000000</td>\n",
       "      <td>4.839276</td>\n",
       "    </tr>\n",
       "    <tr>\n",
       "      <th>25%</th>\n",
       "      <td>2014.000000</td>\n",
       "      <td>6.038021</td>\n",
       "    </tr>\n",
       "    <tr>\n",
       "      <th>50%</th>\n",
       "      <td>2017.000000</td>\n",
       "      <td>8.020000</td>\n",
       "    </tr>\n",
       "    <tr>\n",
       "      <th>75%</th>\n",
       "      <td>2020.000000</td>\n",
       "      <td>11.108956</td>\n",
       "    </tr>\n",
       "    <tr>\n",
       "      <th>max</th>\n",
       "      <td>2023.000000</td>\n",
       "      <td>12.960000</td>\n",
       "    </tr>\n",
       "  </tbody>\n",
       "</table>\n",
       "</div>"
      ],
      "text/plain": [
       "       TIME_PERIOD  OBS_VALUE\n",
       "count    13.000000  13.000000\n",
       "mean   2016.846154   8.306698\n",
       "std       4.140172   2.775010\n",
       "min    2010.000000   4.839276\n",
       "25%    2014.000000   6.038021\n",
       "50%    2017.000000   8.020000\n",
       "75%    2020.000000  11.108956\n",
       "max    2023.000000  12.960000"
      ]
     },
     "execution_count": 15,
     "metadata": {},
     "output_type": "execute_result"
    }
   ],
   "source": [
    "edu_clean.describe()"
   ]
  }
 ],
 "metadata": {
  "kernelspec": {
   "display_name": "Python 3",
   "language": "python",
   "name": "python3"
  },
  "language_info": {
   "codemirror_mode": {
    "name": "ipython",
    "version": 3
   },
   "file_extension": ".py",
   "mimetype": "text/x-python",
   "name": "python",
   "nbconvert_exporter": "python",
   "pygments_lexer": "ipython3",
   "version": "3.13.2"
  }
 },
 "nbformat": 4,
 "nbformat_minor": 5
}
