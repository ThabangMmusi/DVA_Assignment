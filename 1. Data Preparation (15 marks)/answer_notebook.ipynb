{
 "cells": [
  {
   "cell_type": "markdown",
   "metadata": {},
   "source": [
    "## Data Preparation\n",
    "Data preparation is the process of cleaning, transforming, and enriching raw data into a desired format for better decision-making in less time. It is a crucial step before processing and analyzing data to ensure that the data is accurate, consistent, and complete.\n",
    "\n",
    "### 1. Load Modules & Dataset"
   ]
  },
  {
   "cell_type": "code",
   "execution_count": 1,
   "metadata": {},
   "outputs": [
    {
     "name": "stdout",
     "output_type": "stream",
     "text": [
      "Files loaded successfully!\n"
     ]
    }
   ],
   "source": [
    "# 1. Load Modules & Dataset\n",
    "import pandas as pd\n",
    "import matplotlib.pyplot as plt\n",
    "import seaborn as sns\n",
    "\n",
    "# Load datasets\n",
    "try:\n",
    "    edu_df = pd.read_csv(\"education.csv\")\n",
    "    labour_df = pd.read_csv(\"labour.csv\")\n",
    "    print(\"Files loaded successfully!\")\n",
    "except FileNotFoundError as e:\n",
    "    print(e)"
   ]
  },
  {
   "cell_type": "code",
   "execution_count": 2,
   "metadata": {},
   "outputs": [
    {
     "name": "stdout",
     "output_type": "stream",
     "text": [
      "--- Education Data Info ---\n",
      "<class 'pandas.core.frame.DataFrame'>\n",
      "RangeIndex: 1332 entries, 0 to 1331\n",
      "Data columns (total 45 columns):\n",
      " #   Column                  Non-Null Count  Dtype  \n",
      "---  ------                  --------------  -----  \n",
      " 0   STRUCTURE               1332 non-null   object \n",
      " 1   STRUCTURE_ID            1332 non-null   object \n",
      " 2   ACTION                  1332 non-null   object \n",
      " 3   FREQ                    1332 non-null   object \n",
      " 4   FREQ_LABEL              1332 non-null   object \n",
      " 5   REF_AREA                1332 non-null   object \n",
      " 6   REF_AREA_LABEL          1332 non-null   object \n",
      " 7   INDICATOR               1332 non-null   object \n",
      " 8   INDICATOR_LABEL         1332 non-null   object \n",
      " 9   SEX                     1332 non-null   object \n",
      " 10  SEX_LABEL               1332 non-null   object \n",
      " 11  AGE                     1332 non-null   object \n",
      " 12  AGE_LABEL               1332 non-null   object \n",
      " 13  URBANISATION            1332 non-null   object \n",
      " 14  URBANISATION_LABEL      1332 non-null   object \n",
      " 15  UNIT_MEASURE            1332 non-null   object \n",
      " 16  UNIT_MEASURE_LABEL      1332 non-null   object \n",
      " 17  COMP_BREAKDOWN_1        1332 non-null   object \n",
      " 18  COMP_BREAKDOWN_1_LABEL  1332 non-null   object \n",
      " 19  COMP_BREAKDOWN_2        1332 non-null   object \n",
      " 20  COMP_BREAKDOWN_2_LABEL  1332 non-null   object \n",
      " 21  COMP_BREAKDOWN_3        1332 non-null   object \n",
      " 22  COMP_BREAKDOWN_3_LABEL  1332 non-null   object \n",
      " 23  TIME_PERIOD             1332 non-null   int64  \n",
      " 24  OBS_VALUE               1332 non-null   float64\n",
      " 25  AGG_METHOD              1332 non-null   object \n",
      " 26  AGG_METHOD_LABEL        1332 non-null   object \n",
      " 27  DECIMALS                1332 non-null   int64  \n",
      " 28  DECIMALS_LABEL          1332 non-null   object \n",
      " 29  DATABASE_ID             1332 non-null   object \n",
      " 30  DATABASE_ID_LABEL       1332 non-null   object \n",
      " 31  COMMENT_TS              1332 non-null   object \n",
      " 32  UNIT_MULT               1332 non-null   int64  \n",
      " 33  UNIT_MULT_LABEL         1332 non-null   object \n",
      " 34  DATA_SOURCE             1332 non-null   object \n",
      " 35  DATA_SOURCE_LABEL       1332 non-null   object \n",
      " 36  UNIT_TYPE               1332 non-null   object \n",
      " 37  UNIT_TYPE_LABEL         1332 non-null   object \n",
      " 38  TIME_FORMAT             1332 non-null   object \n",
      " 39  TIME_FORMAT_LABEL       1332 non-null   object \n",
      " 40  COMMENT_OBS             0 non-null      float64\n",
      " 41  OBS_STATUS              1332 non-null   object \n",
      " 42  OBS_STATUS_LABEL        1332 non-null   object \n",
      " 43  OBS_CONF                1332 non-null   object \n",
      " 44  OBS_CONF_LABEL          1332 non-null   object \n",
      "dtypes: float64(2), int64(3), object(40)\n",
      "memory usage: 468.4+ KB\n"
     ]
    }
   ],
   "source": [
    "# 2. Initial Inspection\n",
    "print(\"--- Education Data Info ---\")\n",
    "edu_df.info()"
   ]
  },
  {
   "cell_type": "code",
   "execution_count": 3,
   "metadata": {},
   "outputs": [
    {
     "name": "stdout",
     "output_type": "stream",
     "text": [
      "\n",
      "--- Labour Data Info ---\n",
      "<class 'pandas.core.frame.DataFrame'>\n",
      "RangeIndex: 8216 entries, 0 to 8215\n",
      "Data columns (total 45 columns):\n",
      " #   Column                  Non-Null Count  Dtype  \n",
      "---  ------                  --------------  -----  \n",
      " 0   STRUCTURE               8216 non-null   object \n",
      " 1   STRUCTURE_ID            8216 non-null   object \n",
      " 2   ACTION                  8216 non-null   object \n",
      " 3   FREQ                    8216 non-null   object \n",
      " 4   FREQ_LABEL              8216 non-null   object \n",
      " 5   REF_AREA                8216 non-null   object \n",
      " 6   REF_AREA_LABEL          8216 non-null   object \n",
      " 7   INDICATOR               8216 non-null   object \n",
      " 8   INDICATOR_LABEL         8216 non-null   object \n",
      " 9   SEX                     8216 non-null   object \n",
      " 10  SEX_LABEL               8216 non-null   object \n",
      " 11  AGE                     8216 non-null   object \n",
      " 12  AGE_LABEL               8216 non-null   object \n",
      " 13  URBANISATION            8216 non-null   object \n",
      " 14  URBANISATION_LABEL      8216 non-null   object \n",
      " 15  UNIT_MEASURE            8216 non-null   object \n",
      " 16  UNIT_MEASURE_LABEL      8216 non-null   object \n",
      " 17  COMP_BREAKDOWN_1        8216 non-null   object \n",
      " 18  COMP_BREAKDOWN_1_LABEL  8216 non-null   object \n",
      " 19  COMP_BREAKDOWN_2        8216 non-null   object \n",
      " 20  COMP_BREAKDOWN_2_LABEL  8216 non-null   object \n",
      " 21  COMP_BREAKDOWN_3        8216 non-null   object \n",
      " 22  COMP_BREAKDOWN_3_LABEL  8216 non-null   object \n",
      " 23  TIME_PERIOD             8216 non-null   int64  \n",
      " 24  OBS_VALUE               8216 non-null   float64\n",
      " 25  AGG_METHOD              8216 non-null   object \n",
      " 26  AGG_METHOD_LABEL        8216 non-null   object \n",
      " 27  DECIMALS                8216 non-null   int64  \n",
      " 28  DECIMALS_LABEL          8216 non-null   object \n",
      " 29  DATABASE_ID             8216 non-null   object \n",
      " 30  DATABASE_ID_LABEL       8216 non-null   object \n",
      " 31  COMMENT_TS              8216 non-null   object \n",
      " 32  UNIT_MULT               8216 non-null   int64  \n",
      " 33  UNIT_MULT_LABEL         8216 non-null   object \n",
      " 34  DATA_SOURCE             8216 non-null   object \n",
      " 35  DATA_SOURCE_LABEL       8216 non-null   object \n",
      " 36  UNIT_TYPE               8216 non-null   object \n",
      " 37  UNIT_TYPE_LABEL         8216 non-null   object \n",
      " 38  TIME_FORMAT             8216 non-null   object \n",
      " 39  TIME_FORMAT_LABEL       8216 non-null   object \n",
      " 40  COMMENT_OBS             0 non-null      float64\n",
      " 41  OBS_STATUS              8216 non-null   object \n",
      " 42  OBS_STATUS_LABEL        8216 non-null   object \n",
      " 43  OBS_CONF                8216 non-null   object \n",
      " 44  OBS_CONF_LABEL          8216 non-null   object \n",
      "dtypes: float64(2), int64(3), object(40)\n",
      "memory usage: 2.8+ MB\n"
     ]
    }
   ],
   "source": [
    "print(\"\\n--- Labour Data Info ---\")\n",
    "labour_df.info()"
   ]
  },
  {
   "cell_type": "code",
   "execution_count": 4,
   "metadata": {},
   "outputs": [],
   "source": [
    "# 3. Clean and Filter Data\n",
    "\n",
    "# Filter for South Africa\n",
    "edu_sa = edu_df[edu_df[\"REF_AREA_LABEL\"] == \"South Africa\"].copy()\n",
    "labour_sa = labour_df[labour_df[\"REF_AREA_LABEL\"] == \"South Africa\"].copy()"
   ]
  },
  {
   "cell_type": "code",
   "execution_count": 5,
   "metadata": {},
   "outputs": [
    {
     "name": "stdout",
     "output_type": "stream",
     "text": [
      "\n",
      "Found 13 rows for South Africa in the education dataset.\n",
      "Found 35 rows for South Africa in the labour dataset.\n"
     ]
    }
   ],
   "source": [
    "print(f\"\\nFound {len(edu_sa)} rows for South Africa in the education dataset.\")\n",
    "print(f\"Found {len(labour_sa)} rows for South Africa in the labour dataset.\")"
   ]
  },
  {
   "cell_type": "code",
   "execution_count": 6,
   "metadata": {},
   "outputs": [],
   "source": [
    "# Select relevant columns and rename them for easier use\n",
    "columns_to_keep = {\n",
    "    \"TIME_PERIOD\": \"Year\",\n",
    "    \"INDICATOR_LABEL\": \"Indicator\",\n",
    "    \"SEX_LABEL\": \"Sex\",\n",
    "    \"AGE_LABEL\": \"Age\",\n",
    "    \"OBS_VALUE\": \"Value\"\n",
    "}\n",
    "\n",
    "edu_clean = edu_sa[list(columns_to_keep.keys())].rename(columns=columns_to_keep)\n",
    "labour_clean = labour_sa[list(columns_to_keep.keys())].rename(columns=columns_to_keep)"
   ]
  },
  {
   "cell_type": "code",
   "execution_count": 7,
   "metadata": {},
   "outputs": [
    {
     "name": "stdout",
     "output_type": "stream",
     "text": [
      "\n",
      "--- Checking for missing values in cleaned Education data ---\n",
      "Year         0\n",
      "Indicator    0\n",
      "Sex          0\n",
      "Age          0\n",
      "Value        0\n",
      "dtype: int64\n"
     ]
    }
   ],
   "source": [
    "# 4. Handle Missing Values\n",
    "print(\"\\n--- Checking for missing values in cleaned Education data ---\")\n",
    "print(edu_clean.isnull().sum())"
   ]
  },
  {
   "cell_type": "code",
   "execution_count": 8,
   "metadata": {},
   "outputs": [
    {
     "name": "stdout",
     "output_type": "stream",
     "text": [
      "\n",
      "--- Checking for missing values in cleaned Labour data ---\n",
      "Year         0\n",
      "Indicator    0\n",
      "Sex          0\n",
      "Age          0\n",
      "Value        0\n",
      "dtype: int64\n"
     ]
    }
   ],
   "source": [
    "print(\"\\n--- Checking for missing values in cleaned Labour data ---\")\n",
    "print(labour_clean.isnull().sum())"
   ]
  },
  {
   "cell_type": "code",
   "execution_count": 9,
   "metadata": {},
   "outputs": [
    {
     "name": "stdout",
     "output_type": "stream",
     "text": [
      "\n",
      "--- Descriptive Statistics for Education Data (South Africa) ---\n",
      "              Year      Value\n",
      "count    13.000000  13.000000\n",
      "mean   2016.846154   8.306698\n",
      "std       4.140172   2.775010\n",
      "min    2010.000000   4.839276\n",
      "25%    2014.000000   6.038021\n",
      "50%    2017.000000   8.020000\n",
      "75%    2020.000000  11.108956\n",
      "max    2023.000000  12.960000\n"
     ]
    }
   ],
   "source": [
    "# 5. Generate Descriptive Statistics and Insights\n",
    "print(\"\\n--- Descriptive Statistics for Education Data (South Africa) ---\")\n",
    "print(edu_clean.describe())"
   ]
  },
  {
   "cell_type": "code",
   "execution_count": 10,
   "metadata": {},
   "outputs": [
    {
     "name": "stdout",
     "output_type": "stream",
     "text": [
      "\n",
      "--- Descriptive Statistics for Labour Data (South Africa) ---\n",
      "              Year      Value\n",
      "count    35.000000  35.000000\n",
      "mean   2007.000000  59.423029\n",
      "std      10.246951   2.574678\n",
      "min    1990.000000  54.171000\n",
      "25%    1998.500000  57.829000\n",
      "50%    2007.000000  59.802000\n",
      "75%    2015.500000  61.985500\n",
      "max    2024.000000  62.569000\n"
     ]
    }
   ],
   "source": [
    "print(\"\\n--- Descriptive Statistics for Labour Data (South Africa) ---\")\n",
    "print(labour_clean.describe())"
   ]
  },
  {
   "cell_type": "code",
   "execution_count": 11,
   "metadata": {},
   "outputs": [
    {
     "data": {
      "image/png": "[encoded data removed]",
      "text/plain": [
       "<Figure size 1200x500 with 2 Axes>"
      ]
     },
     "metadata": {},
     "output_type": "display_data"
    }
   ],
   "source": [
    "# Initial Visual Insight\n",
    "plt.figure(figsize=(12, 5))\n",
    "\n",
    "# Histogram for Education values\n",
    "plt.subplot(1, 2, 1)\n",
    "sns.histplot(edu_clean['Value'], kde=True)\n",
    "plt.title('Distribution of Education Attainment (%)')\n",
    "plt.xlabel('Percentage')\n",
    "plt.ylabel('Frequency')\n",
    "\n",
    "# Histogram for Labour values\n",
    "plt.subplot(1, 2, 2)\n",
    "sns.histplot(labour_clean['Value'], kde=True)\n",
    "plt.title('Distribution of Labour Force Participation (%)')\n",
    "plt.xlabel('Percentage')\n",
    "\n",
    "plt.tight_layout()\n",
    "plt.show()"
   ]
  }
 ],
 "metadata": {
  "kernelspec": {
   "display_name": ".venv",
   "language": "python",
   "name": "python3"
  },
  "language_info": {
   "codemirror_mode": {
    "name": "ipython",
    "version": 3
   },
   "file_extension": ".py",
   "mimetype": "text/x-python",
   "name": "python",
   "nbconvert_exporter": "python",
   "pygments_lexer": "ipython3",
   "version": "3.12.7"
  }
 },
 "nbformat": 4,
 "nbformat_minor": 4
}
